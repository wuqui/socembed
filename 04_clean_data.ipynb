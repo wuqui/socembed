{
 "cells": [
  {
   "cell_type": "code",
   "execution_count": null,
   "metadata": {},
   "outputs": [],
   "source": [
    "# default_exp clean_data\n",
    "# all_data"
   ]
  },
  {
   "cell_type": "code",
   "execution_count": null,
   "metadata": {},
   "outputs": [
    {
     "name": "stdout",
     "output_type": "stream",
     "text": [
      "The autoreload extension is already loaded. To reload it, use:\n",
      "  %reload_ext autoreload\n"
     ]
    }
   ],
   "source": [
    "# hide\n",
    "%load_ext autoreload\n",
    "%autoreload 2"
   ]
  },
  {
   "cell_type": "markdown",
   "metadata": {},
   "source": [
    "# Clean data"
   ]
  },
  {
   "cell_type": "markdown",
   "metadata": {},
   "source": [
    "## Imports"
   ]
  },
  {
   "cell_type": "code",
   "execution_count": null,
   "metadata": {},
   "outputs": [],
   "source": [
    "# export\n",
    "import pandas as pd"
   ]
  },
  {
   "cell_type": "markdown",
   "metadata": {},
   "source": [
    "## Remove bot subreddits"
   ]
  },
  {
   "cell_type": "code",
   "execution_count": null,
   "metadata": {},
   "outputs": [],
   "source": [
    "# export\n",
    "def rm_bots_subreddits(df):\n",
    "    subred_bots = ['IHATECOOLDOWNBOT', 'u_CoolDownBot', 'u_fcdb3']\n",
    "    comm_pre = len(df)\n",
    "    df = df.loc[~df['subreddit'].isin(subred_bots)]\n",
    "    comm_post = len(df)\n",
    "    comm_bots = comm_pre - comm_post\n",
    "    print(f\"bot comments (abs): {comm_bots}\")\n",
    "    print(f\"bot comments (rel): {comm_bots / comm_pre}\")\n",
    "    return df"
   ]
  },
  {
   "cell_type": "markdown",
   "metadata": {},
   "source": [
    "## Remove duplicate comments"
   ]
  },
  {
   "cell_type": "code",
   "execution_count": null,
   "metadata": {},
   "outputs": [],
   "source": [
    "# export\n",
    "def rm_dupl_comments(df):\n",
    "    comm_n_pre = len(df)\n",
    "    df.drop_duplicates(subset='id', inplace=True)\n",
    "    comm_n_post = len(df)\n",
    "    print(f\"duplicates removed: {comm_n_pre - comm_n_post}\")\n",
    "    return df"
   ]
  },
  {
   "cell_type": "markdown",
   "metadata": {},
   "source": [
    "## Remove comments without tokens"
   ]
  },
  {
   "cell_type": "code",
   "execution_count": null,
   "metadata": {},
   "outputs": [],
   "source": [
    "# export\n",
    "def rm_comm_no_toks(df, LEX):\n",
    "    comm_n_pre = len(df)\n",
    "\n",
    "    lex_parts = (LEX\n",
    "                   .lower()\n",
    "                   .replace('-', ' ')\n",
    "                   .split()\n",
    "    )\n",
    "\n",
    "    case_variants = set([\n",
    "        ''.join([part for part in lex_parts]),\n",
    "        ' '.join([part for part in lex_parts]),\n",
    "        '-'.join([part for part in lex_parts])\n",
    "    ])\n",
    "\n",
    "    df['body'] = df['body'].astype('string')\n",
    "    df = df.loc[df['body'].apply(lambda x: any([case in x.lower() for case in case_variants]))]\n",
    "\n",
    "    comm_n_post = len(df)\n",
    "\n",
    "    print(pd.DataFrame(data = [\n",
    "        ['total comments', comm_n_pre],\n",
    "        ['w/o tokens', comm_n_pre - comm_n_post]\n",
    "        ]))\n",
    "    \n",
    "    return df"
   ]
  },
  {
   "cell_type": "markdown",
   "metadata": {},
   "source": [
    "# Export notebooks"
   ]
  },
  {
   "cell_type": "code",
   "execution_count": null,
   "metadata": {},
   "outputs": [
    {
     "name": "stdout",
     "output_type": "stream",
     "text": [
      "Converted 00_processing.ipynb.\n",
      "Converted 01_installation.ipynb.\n",
      "Converted 02_read_data.ipynb.\n",
      "Converted 03_clean_data.ipynb.\n",
      "Converted index.ipynb.\n"
     ]
    }
   ],
   "source": [
    "# hide\n",
    "from nbdev.export import notebook2script\n",
    "notebook2script()"
   ]
  }
 ],
 "metadata": {
  "kernelspec": {
   "display_name": "socembed",
   "language": "python",
   "name": "socembed"
  }
 },
 "nbformat": 4,
 "nbformat_minor": 4
}
