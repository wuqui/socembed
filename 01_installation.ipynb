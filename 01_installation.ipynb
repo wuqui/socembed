{
 "cells": [
  {
   "cell_type": "markdown",
   "metadata": {},
   "source": [
    "# Installation\n",
    "\n",
    "> This notebook covers the required installation processes."
   ]
  },
  {
   "cell_type": "code",
   "execution_count": null,
   "metadata": {},
   "outputs": [],
   "source": [
    "import sys"
   ]
  },
  {
   "cell_type": "code",
   "execution_count": null,
   "metadata": {},
   "outputs": [
    {
     "name": "stdout",
     "output_type": "stream",
     "text": [
      "Collecting package metadata (current_repodata.json): done\n",
      "Solving environment: done\n",
      "\n",
      "# All requested packages already installed.\n",
      "\n"
     ]
    }
   ],
   "source": [
    "!conda update --prefix {sys.prefix} pip"
   ]
  },
  {
   "cell_type": "code",
   "execution_count": null,
   "metadata": {},
   "outputs": [
    {
     "name": "stdout",
     "output_type": "stream",
     "text": [
      "Collecting package metadata (current_repodata.json): done\n",
      "Solving environment: done\n",
      "\n",
      "## Package Plan ##\n",
      "\n",
      "  environment location: /Users/quirin/miniconda3/envs/socembed\n",
      "\n",
      "  added / updated specs:\n",
      "    - numpy\n",
      "\n",
      "\n",
      "The following NEW packages will be INSTALLED:\n",
      "\n",
      "  libblas            conda-forge/osx-64::libblas-3.9.0-3_openblas\n",
      "  libcblas           conda-forge/osx-64::libcblas-3.9.0-3_openblas\n",
      "  libgfortran        conda-forge/osx-64::libgfortran-5.0.0-h7cc5361_13\n",
      "  libgfortran5       conda-forge/osx-64::libgfortran5-9.3.0-h7cc5361_13\n",
      "  liblapack          conda-forge/osx-64::liblapack-3.9.0-3_openblas\n",
      "  libopenblas        conda-forge/osx-64::libopenblas-0.3.12-openmp_h54245bb_1\n",
      "  llvm-openmp        conda-forge/osx-64::llvm-openmp-11.0.0-h73239a0_1\n",
      "  numpy              conda-forge/osx-64::numpy-1.19.4-py37h9ebeaaa_1\n",
      "\n",
      "\n",
      "Preparing transaction: done\n",
      "Verifying transaction: done\n",
      "Executing transaction: done\n"
     ]
    }
   ],
   "source": [
    "!conda install -c conda-forge --yes --prefix {sys.prefix} numpy"
   ]
  },
  {
   "cell_type": "code",
   "execution_count": null,
   "metadata": {},
   "outputs": [
    {
     "name": "stdout",
     "output_type": "stream",
     "text": [
      "\n",
      "EnvironmentLocationNotFound: Not a conda environment: /Users/quirin/promo/socembed/{sys.prefix}\n",
      "\n"
     ]
    }
   ],
   "source": [
    "!conda install -c conda-forge --yes --prefix {sys.prefix} pandas"
   ]
  },
  {
   "cell_type": "code",
   "execution_count": null,
   "metadata": {},
   "outputs": [
    {
     "name": "stdout",
     "output_type": "stream",
     "text": [
      "Collecting package metadata (current_repodata.json): done\n",
      "Solving environment: done\n",
      "\n",
      "## Package Plan ##\n",
      "\n",
      "  environment location: /Users/quirin/miniconda3/envs/socembed\n",
      "\n",
      "  added / updated specs:\n",
      "    - altair\n",
      "    - altair_saver\n",
      "    - vega_datasets\n",
      "\n",
      "\n",
      "The following packages will be downloaded:\n",
      "\n",
      "    package                    |            build\n",
      "    ---------------------------|-----------------\n",
      "    nodejs-12.19.0             |       h85b90a3_1        14.4 MB  conda-forge\n",
      "    ------------------------------------------------------------\n",
      "                                           Total:        14.4 MB\n",
      "\n",
      "The following NEW packages will be INSTALLED:\n",
      "\n",
      "  altair             conda-forge/noarch::altair-4.1.0-py_1\n",
      "  altair_data_server conda-forge/noarch::altair_data_server-0.4.1-py_0\n",
      "  altair_saver       conda-forge/noarch::altair_saver-0.5.0-py_0\n",
      "  altair_viewer      conda-forge/noarch::altair_viewer-0.3.0-py_0\n",
      "  libuv              conda-forge/osx-64::libuv-1.40.0-h22f3db7_0\n",
      "  nodejs             conda-forge/osx-64::nodejs-12.19.0-h85b90a3_1\n",
      "  portpicker         pkgs/main/osx-64::portpicker-1.3.1-py37_0\n",
      "  selenium           conda-forge/osx-64::selenium-3.141.0-py37h60d8a13_1002\n",
      "  toolz              conda-forge/noarch::toolz-0.11.1-py_0\n",
      "  vega-cli           conda-forge/osx-64::vega-cli-5.6.0-0\n",
      "  vega-lite-cli      conda-forge/osx-64::vega-lite-cli-3.4.0-0\n",
      "  vega_datasets      conda-forge/noarch::vega_datasets-0.9.0-pyhd3deb0d_0\n",
      "\n",
      "\n",
      "\n",
      "Downloading and Extracting Packages\n",
      "nodejs-12.19.0       | 14.4 MB   | ##################################### | 100% \n",
      "Preparing transaction: done\n",
      "Verifying transaction: done\n",
      "Executing transaction: done\n"
     ]
    }
   ],
   "source": [
    "!conda install -c conda-forge --yes --prefix {sys.prefix} altair vega_datasets altair_saver"
   ]
  }
 ],
 "metadata": {
  "kernelspec": {
   "display_name": "socembed",
   "language": "python",
   "name": "socembed"
  }
 },
 "nbformat": 4,
 "nbformat_minor": 4
}
