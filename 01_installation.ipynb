{
 "cells": [
  {
   "cell_type": "markdown",
   "metadata": {},
   "source": [
    "# Installation\n",
    "\n",
    "> This notebook covers the required installation processes."
   ]
  },
  {
   "cell_type": "raw",
   "metadata": {},
   "source": [
    "import sys"
   ]
  },
  {
   "cell_type": "raw",
   "metadata": {},
   "source": [
    "%conda update --yes pip"
   ]
  },
  {
   "cell_type": "raw",
   "metadata": {},
   "source": [
    "%conda install -c conda-forge --yes numpy"
   ]
  },
  {
   "cell_type": "raw",
   "metadata": {},
   "source": [
    "%conda install -c conda-forge --yes pandas"
   ]
  },
  {
   "cell_type": "raw",
   "metadata": {},
   "source": [
    "%conda install -c conda-forge --yes altair vega_datasets altair_saver"
   ]
  }
 ],
 "metadata": {
  "kernelspec": {
   "display_name": "socembed",
   "language": "python",
   "name": "socembed"
  }
 },
 "nbformat": 4,
 "nbformat_minor": 4
}
