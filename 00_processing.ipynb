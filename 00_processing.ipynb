{
 "cells": [
  {
   "cell_type": "code",
   "execution_count": null,
   "metadata": {},
   "outputs": [],
   "source": [
    "# default_exp processing\n",
    "# all_data"
   ]
  },
  {
   "cell_type": "code",
   "execution_count": null,
   "metadata": {},
   "outputs": [],
   "source": [
    "# hide\n",
    "%load_ext autoreload\n",
    "%autoreload 2"
   ]
  },
  {
   "cell_type": "markdown",
   "metadata": {},
   "source": [
    "# Processing\n",
    "\n",
    "> This notebook contains the processing pipeline."
   ]
  },
  {
   "cell_type": "markdown",
   "metadata": {},
   "source": [
    "# Imports"
   ]
  },
  {
   "cell_type": "code",
   "execution_count": null,
   "metadata": {},
   "outputs": [],
   "source": [
    "from socembed import *"
   ]
  },
  {
   "cell_type": "code",
   "execution_count": null,
   "metadata": {},
   "outputs": [],
   "source": [
    "#hide\n",
    "from nbdev.showdoc import *"
   ]
  },
  {
   "cell_type": "code",
   "execution_count": null,
   "metadata": {},
   "outputs": [],
   "source": [
    "import pandas as pd\n",
    "import altair as alt"
   ]
  },
  {
   "cell_type": "markdown",
   "metadata": {},
   "source": [
    "# Variables"
   ]
  },
  {
   "cell_type": "code",
   "execution_count": null,
   "metadata": {},
   "outputs": [],
   "source": [
    "LEX = 'Anglo-Saxon'\n",
    "CORPUS_DIR = '/Volumes/qjd/promo/SocEmb/data/psaw/'"
   ]
  },
  {
   "cell_type": "markdown",
   "metadata": {},
   "source": [
    "# Read data"
   ]
  },
  {
   "cell_type": "code",
   "execution_count": null,
   "metadata": {},
   "outputs": [],
   "source": [
    "fpaths = get_fpaths('Anglo-Saxon', source='local')"
   ]
  },
  {
   "cell_type": "code",
   "execution_count": null,
   "metadata": {},
   "outputs": [],
   "source": [
    "df = read_comments(fpaths)"
   ]
  },
  {
   "cell_type": "code",
   "execution_count": null,
   "metadata": {},
   "outputs": [],
   "source": [
    "df = parse_dates(df)"
   ]
  },
  {
   "cell_type": "code",
   "execution_count": null,
   "metadata": {},
   "outputs": [
    {
     "data": {
      "text/html": [
       "<div>\n",
       "<style scoped>\n",
       "    .dataframe tbody tr th:only-of-type {\n",
       "        vertical-align: middle;\n",
       "    }\n",
       "\n",
       "    .dataframe tbody tr th {\n",
       "        vertical-align: top;\n",
       "    }\n",
       "\n",
       "    .dataframe thead th {\n",
       "        text-align: right;\n",
       "    }\n",
       "</style>\n",
       "<table border=\"1\" class=\"dataframe\">\n",
       "  <thead>\n",
       "    <tr style=\"text-align: right;\">\n",
       "      <th></th>\n",
       "      <th>body</th>\n",
       "      <th>created_utc</th>\n",
       "      <th>id</th>\n",
       "      <th>subreddit</th>\n",
       "    </tr>\n",
       "  </thead>\n",
       "  <tbody>\n",
       "    <tr>\n",
       "      <th>117981</th>\n",
       "      <td>What's interesting is that in other statistics...</td>\n",
       "      <td>2006-02-04 19:10:02</td>\n",
       "      <td>c19aw</td>\n",
       "      <td>reddit.com</td>\n",
       "    </tr>\n",
       "    <tr>\n",
       "      <th>117980</th>\n",
       "      <td>It's a pity that The Economist doesn't just le...</td>\n",
       "      <td>2006-03-31 20:19:59</td>\n",
       "      <td>c3rb4</td>\n",
       "      <td>reddit.com</td>\n",
       "    </tr>\n",
       "    <tr>\n",
       "      <th>117979</th>\n",
       "      <td>ROFL - pica, what prompted this little diatrib...</td>\n",
       "      <td>2006-04-05 19:35:05</td>\n",
       "      <td>c3ywe</td>\n",
       "      <td>reddit.com</td>\n",
       "    </tr>\n",
       "    <tr>\n",
       "      <th>117978</th>\n",
       "      <td>Agreed, and it points up the absurdity of the ...</td>\n",
       "      <td>2006-05-23 18:43:32</td>\n",
       "      <td>c6gks</td>\n",
       "      <td>reddit.com</td>\n",
       "    </tr>\n",
       "    <tr>\n",
       "      <th>117977</th>\n",
       "      <td>What if your groups don't make any sense?  Thi...</td>\n",
       "      <td>2006-05-23 23:26:17</td>\n",
       "      <td>c6h6i</td>\n",
       "      <td>reddit.com</td>\n",
       "    </tr>\n",
       "    <tr>\n",
       "      <th>...</th>\n",
       "      <td>...</td>\n",
       "      <td>...</td>\n",
       "      <td>...</td>\n",
       "      <td>...</td>\n",
       "    </tr>\n",
       "    <tr>\n",
       "      <th>117986</th>\n",
       "      <td>oh for sure, I just meant to say that anyone w...</td>\n",
       "      <td>2020-10-06 19:59:46</td>\n",
       "      <td>g7xj5pq</td>\n",
       "      <td>politics</td>\n",
       "    </tr>\n",
       "    <tr>\n",
       "      <th>117985</th>\n",
       "      <td>didn't howard write the shadow over innsmouth ...</td>\n",
       "      <td>2020-10-06 20:06:46</td>\n",
       "      <td>g7xk783</td>\n",
       "      <td>IcebergCharts</td>\n",
       "    </tr>\n",
       "    <tr>\n",
       "      <th>117984</th>\n",
       "      <td>Again, you're putting words in my mouth, and I...</td>\n",
       "      <td>2020-10-06 20:09:14</td>\n",
       "      <td>g7xkkch</td>\n",
       "      <td>victoria2</td>\n",
       "    </tr>\n",
       "    <tr>\n",
       "      <th>117983</th>\n",
       "      <td>Oh man, English is so bloody weird. Like, yes ...</td>\n",
       "      <td>2020-10-06 20:10:18</td>\n",
       "      <td>g7xkptp</td>\n",
       "      <td>TheOwlHouse</td>\n",
       "    </tr>\n",
       "    <tr>\n",
       "      <th>117982</th>\n",
       "      <td>The religion of Brittany could be a cult to ki...</td>\n",
       "      <td>2020-10-06 20:23:54</td>\n",
       "      <td>g7xmm1j</td>\n",
       "      <td>NewEraOldWorld</td>\n",
       "    </tr>\n",
       "  </tbody>\n",
       "</table>\n",
       "<p>138925 rows × 4 columns</p>\n",
       "</div>"
      ],
      "text/plain": [
       "                                                     body         created_utc  \\\n",
       "117981  What's interesting is that in other statistics... 2006-02-04 19:10:02   \n",
       "117980  It's a pity that The Economist doesn't just le... 2006-03-31 20:19:59   \n",
       "117979  ROFL - pica, what prompted this little diatrib... 2006-04-05 19:35:05   \n",
       "117978  Agreed, and it points up the absurdity of the ... 2006-05-23 18:43:32   \n",
       "117977  What if your groups don't make any sense?  Thi... 2006-05-23 23:26:17   \n",
       "...                                                   ...                 ...   \n",
       "117986  oh for sure, I just meant to say that anyone w... 2020-10-06 19:59:46   \n",
       "117985  didn't howard write the shadow over innsmouth ... 2020-10-06 20:06:46   \n",
       "117984  Again, you're putting words in my mouth, and I... 2020-10-06 20:09:14   \n",
       "117983  Oh man, English is so bloody weird. Like, yes ... 2020-10-06 20:10:18   \n",
       "117982  The religion of Brittany could be a cult to ki... 2020-10-06 20:23:54   \n",
       "\n",
       "             id       subreddit  \n",
       "117981    c19aw      reddit.com  \n",
       "117980    c3rb4      reddit.com  \n",
       "117979    c3ywe      reddit.com  \n",
       "117978    c6gks      reddit.com  \n",
       "117977    c6h6i      reddit.com  \n",
       "...         ...             ...  \n",
       "117986  g7xj5pq        politics  \n",
       "117985  g7xk783   IcebergCharts  \n",
       "117984  g7xkkch       victoria2  \n",
       "117983  g7xkptp     TheOwlHouse  \n",
       "117982  g7xmm1j  NewEraOldWorld  \n",
       "\n",
       "[138925 rows x 4 columns]"
      ]
     },
     "execution_count": null,
     "metadata": {},
     "output_type": "execute_result"
    }
   ],
   "source": [
    "df"
   ]
  },
  {
   "cell_type": "markdown",
   "metadata": {},
   "source": [
    "# Clean data"
   ]
  },
  {
   "cell_type": "markdown",
   "metadata": {},
   "source": [
    "## Remove bot subreddits"
   ]
  },
  {
   "cell_type": "code",
   "execution_count": null,
   "metadata": {},
   "outputs": [
    {
     "name": "stdout",
     "output_type": "stream",
     "text": [
      "bot comments (abs): 0\n",
      "bot comments (rel): 0.0\n"
     ]
    }
   ],
   "source": [
    "df = rm_bots_subreddits(df)"
   ]
  },
  {
   "cell_type": "markdown",
   "metadata": {},
   "source": [
    "## Remove duplicate comments"
   ]
  },
  {
   "cell_type": "code",
   "execution_count": null,
   "metadata": {},
   "outputs": [
    {
     "name": "stdout",
     "output_type": "stream",
     "text": [
      "duplicates removed: 16812\n"
     ]
    }
   ],
   "source": [
    "df = rm_dupl_comments(df)"
   ]
  },
  {
   "cell_type": "markdown",
   "metadata": {},
   "source": [
    "## Remove comments without target tokens"
   ]
  },
  {
   "cell_type": "code",
   "execution_count": null,
   "metadata": {},
   "outputs": [
    {
     "name": "stdout",
     "output_type": "stream",
     "text": [
      "                0       1\n",
      "0  total comments  122113\n",
      "1      w/o tokens    1635\n"
     ]
    }
   ],
   "source": [
    "df = rm_comm_no_toks(df, LEX)"
   ]
  },
  {
   "cell_type": "markdown",
   "metadata": {},
   "source": [
    "# Usage frequency"
   ]
  },
  {
   "cell_type": "markdown",
   "metadata": {},
   "source": [
    "## Aggregate usage frequency in monthly bins"
   ]
  },
  {
   "cell_type": "code",
   "execution_count": null,
   "metadata": {},
   "outputs": [
    {
     "data": {
      "text/html": [
       "<div>\n",
       "<style scoped>\n",
       "    .dataframe tbody tr th:only-of-type {\n",
       "        vertical-align: middle;\n",
       "    }\n",
       "\n",
       "    .dataframe tbody tr th {\n",
       "        vertical-align: top;\n",
       "    }\n",
       "\n",
       "    .dataframe thead th {\n",
       "        text-align: right;\n",
       "    }\n",
       "</style>\n",
       "<table border=\"1\" class=\"dataframe\">\n",
       "  <thead>\n",
       "    <tr style=\"text-align: right;\">\n",
       "      <th></th>\n",
       "      <th>month</th>\n",
       "      <th>comm_n</th>\n",
       "    </tr>\n",
       "  </thead>\n",
       "  <tbody>\n",
       "    <tr>\n",
       "      <th>1</th>\n",
       "      <td>2006-03-31</td>\n",
       "      <td>1</td>\n",
       "    </tr>\n",
       "    <tr>\n",
       "      <th>2</th>\n",
       "      <td>2006-04-30</td>\n",
       "      <td>1</td>\n",
       "    </tr>\n",
       "    <tr>\n",
       "      <th>3</th>\n",
       "      <td>2006-05-31</td>\n",
       "      <td>2</td>\n",
       "    </tr>\n",
       "    <tr>\n",
       "      <th>4</th>\n",
       "      <td>2006-06-30</td>\n",
       "      <td>0</td>\n",
       "    </tr>\n",
       "    <tr>\n",
       "      <th>5</th>\n",
       "      <td>2006-07-31</td>\n",
       "      <td>1</td>\n",
       "    </tr>\n",
       "    <tr>\n",
       "      <th>...</th>\n",
       "      <td>...</td>\n",
       "      <td>...</td>\n",
       "    </tr>\n",
       "    <tr>\n",
       "      <th>171</th>\n",
       "      <td>2020-05-31</td>\n",
       "      <td>2647</td>\n",
       "    </tr>\n",
       "    <tr>\n",
       "      <th>172</th>\n",
       "      <td>2020-06-30</td>\n",
       "      <td>2733</td>\n",
       "    </tr>\n",
       "    <tr>\n",
       "      <th>173</th>\n",
       "      <td>2020-07-31</td>\n",
       "      <td>2452</td>\n",
       "    </tr>\n",
       "    <tr>\n",
       "      <th>174</th>\n",
       "      <td>2020-08-31</td>\n",
       "      <td>2266</td>\n",
       "    </tr>\n",
       "    <tr>\n",
       "      <th>175</th>\n",
       "      <td>2020-09-30</td>\n",
       "      <td>2280</td>\n",
       "    </tr>\n",
       "  </tbody>\n",
       "</table>\n",
       "<p>175 rows × 2 columns</p>\n",
       "</div>"
      ],
      "text/plain": [
       "         month  comm_n\n",
       "1   2006-03-31       1\n",
       "2   2006-04-30       1\n",
       "3   2006-05-31       2\n",
       "4   2006-06-30       0\n",
       "5   2006-07-31       1\n",
       "..         ...     ...\n",
       "171 2020-05-31    2647\n",
       "172 2020-06-30    2733\n",
       "173 2020-07-31    2452\n",
       "174 2020-08-31    2266\n",
       "175 2020-09-30    2280\n",
       "\n",
       "[175 rows x 2 columns]"
      ]
     },
     "execution_count": null,
     "metadata": {},
     "output_type": "execute_result"
    }
   ],
   "source": [
    "df_m = get_monthly_freq(df)\n",
    "df_m"
   ]
  },
  {
   "cell_type": "markdown",
   "metadata": {},
   "source": [
    "## Plot usage frequency"
   ]
  },
  {
   "cell_type": "code",
   "execution_count": null,
   "metadata": {},
   "outputs": [
    {
     "data": {
      "text/html": [
       "\n",
       "<div id=\"altair-viz-701aad9866f34fd4ad49b6f654ab2e37\"></div>\n",
       "<script type=\"text/javascript\">\n",
       "  (function(spec, embedOpt){\n",
       "    let outputDiv = document.currentScript.previousElementSibling;\n",
       "    if (outputDiv.id !== \"altair-viz-701aad9866f34fd4ad49b6f654ab2e37\") {\n",
       "      outputDiv = document.getElementById(\"altair-viz-701aad9866f34fd4ad49b6f654ab2e37\");\n",
       "    }\n",
       "    const paths = {\n",
       "      \"vega\": \"https://cdn.jsdelivr.net/npm//vega@5?noext\",\n",
       "      \"vega-lib\": \"https://cdn.jsdelivr.net/npm//vega-lib?noext\",\n",
       "      \"vega-lite\": \"https://cdn.jsdelivr.net/npm//vega-lite@4.8.1?noext\",\n",
       "      \"vega-embed\": \"https://cdn.jsdelivr.net/npm//vega-embed@6?noext\",\n",
       "    };\n",
       "\n",
       "    function loadScript(lib) {\n",
       "      return new Promise(function(resolve, reject) {\n",
       "        var s = document.createElement('script');\n",
       "        s.src = paths[lib];\n",
       "        s.async = true;\n",
       "        s.onload = () => resolve(paths[lib]);\n",
       "        s.onerror = () => reject(`Error loading script: ${paths[lib]}`);\n",
       "        document.getElementsByTagName(\"head\")[0].appendChild(s);\n",
       "      });\n",
       "    }\n",
       "\n",
       "    function showError(err) {\n",
       "      outputDiv.innerHTML = `<div class=\"error\" style=\"color:red;\">${err}</div>`;\n",
       "      throw err;\n",
       "    }\n",
       "\n",
       "    function displayChart(vegaEmbed) {\n",
       "      vegaEmbed(outputDiv, spec, embedOpt)\n",
       "        .catch(err => showError(`Javascript Error: ${err.message}<br>This usually means there's a typo in your chart specification. See the javascript console for the full traceback.`));\n",
       "    }\n",
       "\n",
       "    if(typeof define === \"function\" && define.amd) {\n",
       "      requirejs.config({paths});\n",
       "      require([\"vega-embed\"], displayChart, err => showError(`Error loading script: ${err.message}`));\n",
       "    } else if (typeof vegaEmbed === \"function\") {\n",
       "      displayChart(vegaEmbed);\n",
       "    } else {\n",
       "      loadScript(\"vega\")\n",
       "        .then(() => loadScript(\"vega-lite\"))\n",
       "        .then(() => loadScript(\"vega-embed\"))\n",
       "        .catch(showError)\n",
       "        .then(() => displayChart(vegaEmbed));\n",
       "    }\n",
       "  })({\"config\": {\"view\": {\"continuousWidth\": 400, \"continuousHeight\": 300}}, \"data\": {\"name\": \"data-224068e74feb9a6231639d1ed0fd3d63\"}, \"mark\": {\"type\": \"line\", \"point\": true}, \"encoding\": {\"x\": {\"type\": \"temporal\", \"field\": \"month\", \"title\": \"\"}, \"y\": {\"type\": \"quantitative\", \"field\": \"comm_n\", \"title\": \"comments / month\"}}, \"selection\": {\"selector001\": {\"type\": \"interval\", \"bind\": \"scales\", \"encodings\": [\"x\", \"y\"]}}, \"title\": \"Anglo-Saxon\", \"$schema\": \"https://vega.github.io/schema/vega-lite/v4.8.1.json\", \"datasets\": {\"data-224068e74feb9a6231639d1ed0fd3d63\": [{\"month\": \"2006-03-31T00:00:00\", \"comm_n\": 1}, {\"month\": \"2006-04-30T00:00:00\", \"comm_n\": 1}, {\"month\": \"2006-05-31T00:00:00\", \"comm_n\": 2}, {\"month\": \"2006-06-30T00:00:00\", \"comm_n\": 0}, {\"month\": \"2006-07-31T00:00:00\", \"comm_n\": 1}, {\"month\": \"2006-08-31T00:00:00\", \"comm_n\": 1}, {\"month\": \"2006-09-30T00:00:00\", \"comm_n\": 2}, {\"month\": \"2006-10-31T00:00:00\", \"comm_n\": 5}, {\"month\": \"2006-11-30T00:00:00\", \"comm_n\": 5}, {\"month\": \"2006-12-31T00:00:00\", \"comm_n\": 0}, {\"month\": \"2007-01-31T00:00:00\", \"comm_n\": 5}, {\"month\": \"2007-02-28T00:00:00\", \"comm_n\": 5}, {\"month\": \"2007-03-31T00:00:00\", \"comm_n\": 2}, {\"month\": \"2007-04-30T00:00:00\", \"comm_n\": 4}, {\"month\": \"2007-05-31T00:00:00\", \"comm_n\": 7}, {\"month\": \"2007-06-30T00:00:00\", \"comm_n\": 7}, {\"month\": \"2007-07-31T00:00:00\", \"comm_n\": 11}, {\"month\": \"2007-08-31T00:00:00\", \"comm_n\": 6}, {\"month\": \"2007-09-30T00:00:00\", \"comm_n\": 7}, {\"month\": \"2007-10-31T00:00:00\", \"comm_n\": 10}, {\"month\": \"2007-11-30T00:00:00\", \"comm_n\": 11}, {\"month\": \"2007-12-31T00:00:00\", \"comm_n\": 7}, {\"month\": \"2008-01-31T00:00:00\", \"comm_n\": 20}, {\"month\": \"2008-02-29T00:00:00\", \"comm_n\": 20}, {\"month\": \"2008-03-31T00:00:00\", \"comm_n\": 14}, {\"month\": \"2008-04-30T00:00:00\", \"comm_n\": 17}, {\"month\": \"2008-05-31T00:00:00\", \"comm_n\": 18}, {\"month\": \"2008-06-30T00:00:00\", \"comm_n\": 25}, {\"month\": \"2008-07-31T00:00:00\", \"comm_n\": 20}, {\"month\": \"2008-08-31T00:00:00\", \"comm_n\": 9}, {\"month\": \"2008-09-30T00:00:00\", \"comm_n\": 24}, {\"month\": \"2008-10-31T00:00:00\", \"comm_n\": 26}, {\"month\": \"2008-11-30T00:00:00\", \"comm_n\": 29}, {\"month\": \"2008-12-31T00:00:00\", \"comm_n\": 20}, {\"month\": \"2009-01-31T00:00:00\", \"comm_n\": 47}, {\"month\": \"2009-02-28T00:00:00\", \"comm_n\": 26}, {\"month\": \"2009-03-31T00:00:00\", \"comm_n\": 31}, {\"month\": \"2009-04-30T00:00:00\", \"comm_n\": 26}, {\"month\": \"2009-05-31T00:00:00\", \"comm_n\": 32}, {\"month\": \"2009-06-30T00:00:00\", \"comm_n\": 42}, {\"month\": \"2009-07-31T00:00:00\", \"comm_n\": 28}, {\"month\": \"2009-08-31T00:00:00\", \"comm_n\": 51}, {\"month\": \"2009-09-30T00:00:00\", \"comm_n\": 52}, {\"month\": \"2009-10-31T00:00:00\", \"comm_n\": 52}, {\"month\": \"2009-11-30T00:00:00\", \"comm_n\": 59}, {\"month\": \"2009-12-31T00:00:00\", \"comm_n\": 78}, {\"month\": \"2010-01-31T00:00:00\", \"comm_n\": 69}, {\"month\": \"2010-02-28T00:00:00\", \"comm_n\": 61}, {\"month\": \"2010-03-31T00:00:00\", \"comm_n\": 108}, {\"month\": \"2010-04-30T00:00:00\", \"comm_n\": 62}, {\"month\": \"2010-05-31T00:00:00\", \"comm_n\": 72}, {\"month\": \"2010-06-30T00:00:00\", \"comm_n\": 87}, {\"month\": \"2010-07-31T00:00:00\", \"comm_n\": 93}, {\"month\": \"2010-08-31T00:00:00\", \"comm_n\": 126}, {\"month\": \"2010-09-30T00:00:00\", \"comm_n\": 131}, {\"month\": \"2010-10-31T00:00:00\", \"comm_n\": 115}, {\"month\": \"2010-11-30T00:00:00\", \"comm_n\": 88}, {\"month\": \"2010-12-31T00:00:00\", \"comm_n\": 94}, {\"month\": \"2011-01-31T00:00:00\", \"comm_n\": 127}, {\"month\": \"2011-02-28T00:00:00\", \"comm_n\": 114}, {\"month\": \"2011-03-31T00:00:00\", \"comm_n\": 160}, {\"month\": \"2011-04-30T00:00:00\", \"comm_n\": 161}, {\"month\": \"2011-05-31T00:00:00\", \"comm_n\": 153}, {\"month\": \"2011-06-30T00:00:00\", \"comm_n\": 157}, {\"month\": \"2011-07-31T00:00:00\", \"comm_n\": 188}, {\"month\": \"2011-08-31T00:00:00\", \"comm_n\": 211}, {\"month\": \"2011-09-30T00:00:00\", \"comm_n\": 163}, {\"month\": \"2011-10-31T00:00:00\", \"comm_n\": 197}, {\"month\": \"2011-11-30T00:00:00\", \"comm_n\": 218}, {\"month\": \"2011-12-31T00:00:00\", \"comm_n\": 197}, {\"month\": \"2012-01-31T00:00:00\", \"comm_n\": 273}, {\"month\": \"2012-02-29T00:00:00\", \"comm_n\": 275}, {\"month\": \"2012-03-31T00:00:00\", \"comm_n\": 275}, {\"month\": \"2012-04-30T00:00:00\", \"comm_n\": 298}, {\"month\": \"2012-05-31T00:00:00\", \"comm_n\": 347}, {\"month\": \"2012-06-30T00:00:00\", \"comm_n\": 342}, {\"month\": \"2012-07-31T00:00:00\", \"comm_n\": 570}, {\"month\": \"2012-08-31T00:00:00\", \"comm_n\": 456}, {\"month\": \"2012-09-30T00:00:00\", \"comm_n\": 419}, {\"month\": \"2012-10-31T00:00:00\", \"comm_n\": 357}, {\"month\": \"2012-11-30T00:00:00\", \"comm_n\": 400}, {\"month\": \"2012-12-31T00:00:00\", \"comm_n\": 370}, {\"month\": \"2013-01-31T00:00:00\", \"comm_n\": 515}, {\"month\": \"2013-02-28T00:00:00\", \"comm_n\": 491}, {\"month\": \"2013-03-31T00:00:00\", \"comm_n\": 474}, {\"month\": \"2013-04-30T00:00:00\", \"comm_n\": 552}, {\"month\": \"2013-05-31T00:00:00\", \"comm_n\": 631}, {\"month\": \"2013-06-30T00:00:00\", \"comm_n\": 497}, {\"month\": \"2013-07-31T00:00:00\", \"comm_n\": 568}, {\"month\": \"2013-08-31T00:00:00\", \"comm_n\": 621}, {\"month\": \"2013-09-30T00:00:00\", \"comm_n\": 509}, {\"month\": \"2013-10-31T00:00:00\", \"comm_n\": 587}, {\"month\": \"2013-11-30T00:00:00\", \"comm_n\": 515}, {\"month\": \"2013-12-31T00:00:00\", \"comm_n\": 608}, {\"month\": \"2014-01-31T00:00:00\", \"comm_n\": 680}, {\"month\": \"2014-02-28T00:00:00\", \"comm_n\": 638}, {\"month\": \"2014-03-31T00:00:00\", \"comm_n\": 822}, {\"month\": \"2014-04-30T00:00:00\", \"comm_n\": 800}, {\"month\": \"2014-05-31T00:00:00\", \"comm_n\": 762}, {\"month\": \"2014-06-30T00:00:00\", \"comm_n\": 700}, {\"month\": \"2014-07-31T00:00:00\", \"comm_n\": 731}, {\"month\": \"2014-08-31T00:00:00\", \"comm_n\": 745}, {\"month\": \"2014-09-30T00:00:00\", \"comm_n\": 716}, {\"month\": \"2014-10-31T00:00:00\", \"comm_n\": 845}, {\"month\": \"2014-11-30T00:00:00\", \"comm_n\": 711}, {\"month\": \"2014-12-31T00:00:00\", \"comm_n\": 781}, {\"month\": \"2015-01-31T00:00:00\", \"comm_n\": 850}, {\"month\": \"2015-02-28T00:00:00\", \"comm_n\": 812}, {\"month\": \"2015-03-31T00:00:00\", \"comm_n\": 968}, {\"month\": \"2015-04-30T00:00:00\", \"comm_n\": 1006}, {\"month\": \"2015-05-31T00:00:00\", \"comm_n\": 971}, {\"month\": \"2015-06-30T00:00:00\", \"comm_n\": 920}, {\"month\": \"2015-07-31T00:00:00\", \"comm_n\": 882}, {\"month\": \"2015-08-31T00:00:00\", \"comm_n\": 878}, {\"month\": \"2015-09-30T00:00:00\", \"comm_n\": 875}, {\"month\": \"2015-10-31T00:00:00\", \"comm_n\": 963}, {\"month\": \"2015-11-30T00:00:00\", \"comm_n\": 948}, {\"month\": \"2015-12-31T00:00:00\", \"comm_n\": 986}, {\"month\": \"2016-01-31T00:00:00\", \"comm_n\": 1018}, {\"month\": \"2016-02-29T00:00:00\", \"comm_n\": 878}, {\"month\": \"2016-03-31T00:00:00\", \"comm_n\": 1094}, {\"month\": \"2016-04-30T00:00:00\", \"comm_n\": 930}, {\"month\": \"2016-05-31T00:00:00\", \"comm_n\": 947}, {\"month\": \"2016-06-30T00:00:00\", \"comm_n\": 1019}, {\"month\": \"2016-07-31T00:00:00\", \"comm_n\": 1050}, {\"month\": \"2016-08-31T00:00:00\", \"comm_n\": 978}, {\"month\": \"2016-09-30T00:00:00\", \"comm_n\": 976}, {\"month\": \"2016-10-31T00:00:00\", \"comm_n\": 1025}, {\"month\": \"2016-11-30T00:00:00\", \"comm_n\": 1044}, {\"month\": \"2016-12-31T00:00:00\", \"comm_n\": 1079}, {\"month\": \"2017-01-31T00:00:00\", \"comm_n\": 1336}, {\"month\": \"2017-02-28T00:00:00\", \"comm_n\": 982}, {\"month\": \"2017-03-31T00:00:00\", \"comm_n\": 1297}, {\"month\": \"2017-04-30T00:00:00\", \"comm_n\": 1137}, {\"month\": \"2017-05-31T00:00:00\", \"comm_n\": 1160}, {\"month\": \"2017-06-30T00:00:00\", \"comm_n\": 1205}, {\"month\": \"2017-07-31T00:00:00\", \"comm_n\": 1328}, {\"month\": \"2017-08-31T00:00:00\", \"comm_n\": 1542}, {\"month\": \"2017-09-30T00:00:00\", \"comm_n\": 1243}, {\"month\": \"2017-10-31T00:00:00\", \"comm_n\": 1237}, {\"month\": \"2017-11-30T00:00:00\", \"comm_n\": 1310}, {\"month\": \"2017-12-31T00:00:00\", \"comm_n\": 1205}, {\"month\": \"2018-01-31T00:00:00\", \"comm_n\": 1242}, {\"month\": \"2018-02-28T00:00:00\", \"comm_n\": 1350}, {\"month\": \"2018-03-31T00:00:00\", \"comm_n\": 1322}, {\"month\": \"2018-04-30T00:00:00\", \"comm_n\": 1424}, {\"month\": \"2018-05-31T00:00:00\", \"comm_n\": 1412}, {\"month\": \"2018-06-30T00:00:00\", \"comm_n\": 1179}, {\"month\": \"2018-07-31T00:00:00\", \"comm_n\": 1488}, {\"month\": \"2018-08-31T00:00:00\", \"comm_n\": 1663}, {\"month\": \"2018-09-30T00:00:00\", \"comm_n\": 1363}, {\"month\": \"2018-10-31T00:00:00\", \"comm_n\": 1457}, {\"month\": \"2018-11-30T00:00:00\", \"comm_n\": 1553}, {\"month\": \"2018-12-31T00:00:00\", \"comm_n\": 1616}, {\"month\": \"2019-01-31T00:00:00\", \"comm_n\": 1597}, {\"month\": \"2019-02-28T00:00:00\", \"comm_n\": 1479}, {\"month\": \"2019-03-31T00:00:00\", \"comm_n\": 1635}, {\"month\": \"2019-04-30T00:00:00\", \"comm_n\": 1614}, {\"month\": \"2019-05-31T00:00:00\", \"comm_n\": 1658}, {\"month\": \"2019-06-30T00:00:00\", \"comm_n\": 1552}, {\"month\": \"2019-07-31T00:00:00\", \"comm_n\": 2037}, {\"month\": \"2019-08-31T00:00:00\", \"comm_n\": 1966}, {\"month\": \"2019-09-30T00:00:00\", \"comm_n\": 1728}, {\"month\": \"2019-10-31T00:00:00\", \"comm_n\": 1871}, {\"month\": \"2019-11-30T00:00:00\", \"comm_n\": 1758}, {\"month\": \"2019-12-31T00:00:00\", \"comm_n\": 1860}, {\"month\": \"2020-01-31T00:00:00\", \"comm_n\": 1906}, {\"month\": \"2020-02-29T00:00:00\", \"comm_n\": 2102}, {\"month\": \"2020-03-31T00:00:00\", \"comm_n\": 1563}, {\"month\": \"2020-04-30T00:00:00\", \"comm_n\": 2293}, {\"month\": \"2020-05-31T00:00:00\", \"comm_n\": 2647}, {\"month\": \"2020-06-30T00:00:00\", \"comm_n\": 2733}, {\"month\": \"2020-07-31T00:00:00\", \"comm_n\": 2452}, {\"month\": \"2020-08-31T00:00:00\", \"comm_n\": 2266}, {\"month\": \"2020-09-30T00:00:00\", \"comm_n\": 2280}]}}, {\"mode\": \"vega-lite\"});\n",
       "</script>"
      ],
      "text/plain": [
       "alt.Chart(...)"
      ]
     },
     "execution_count": null,
     "metadata": {},
     "output_type": "execute_result"
    }
   ],
   "source": [
    "plot_use_freq(df_m, LEX)"
   ]
  },
  {
   "cell_type": "markdown",
   "metadata": {},
   "source": [
    "# Export notebooks"
   ]
  },
  {
   "cell_type": "code",
   "execution_count": null,
   "metadata": {},
   "outputs": [],
   "source": [
    "# hide\n",
    "from nbdev.export import notebook2script\n",
    "notebook2script()"
   ]
  }
 ],
 "metadata": {
  "kernelspec": {
   "display_name": "socembed",
   "language": "python",
   "name": "socembed"
  }
 },
 "nbformat": 4,
 "nbformat_minor": 4
}
