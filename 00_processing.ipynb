{
 "cells": [
  {
   "cell_type": "code",
   "execution_count": null,
   "metadata": {},
   "outputs": [],
   "source": [
    "# default_exp processing\n",
    "# all_data"
   ]
  },
  {
   "cell_type": "code",
   "execution_count": null,
   "metadata": {},
   "outputs": [],
   "source": [
    "# hide\n",
    "%load_ext autoreload\n",
    "%autoreload 2"
   ]
  },
  {
   "cell_type": "markdown",
   "metadata": {},
   "source": [
    "# Processing\n",
    "\n",
    "> This notebook contains the processing pipeline."
   ]
  },
  {
   "cell_type": "markdown",
   "metadata": {},
   "source": [
    "# Imports"
   ]
  },
  {
   "cell_type": "code",
   "execution_count": null,
   "metadata": {},
   "outputs": [],
   "source": [
    "from socembed import *"
   ]
  },
  {
   "cell_type": "code",
   "execution_count": null,
   "metadata": {},
   "outputs": [],
   "source": [
    "#hide\n",
    "from nbdev.showdoc import *"
   ]
  },
  {
   "cell_type": "code",
   "execution_count": null,
   "metadata": {},
   "outputs": [],
   "source": [
    "import pandas as pd"
   ]
  },
  {
   "cell_type": "markdown",
   "metadata": {},
   "source": [
    "# Variables"
   ]
  },
  {
   "cell_type": "code",
   "execution_count": null,
   "metadata": {},
   "outputs": [],
   "source": [
    "LEX = 'Anglo-Saxon'\n",
    "CORPUS_DIR = '/Volumes/qjd/promo/SocEmb/data/psaw/'"
   ]
  },
  {
   "cell_type": "markdown",
   "metadata": {},
   "source": [
    "# Read data"
   ]
  },
  {
   "cell_type": "code",
   "execution_count": null,
   "metadata": {},
   "outputs": [],
   "source": [
    "fpaths = get_fpaths('Anglo-Saxon')"
   ]
  },
  {
   "cell_type": "code",
   "execution_count": null,
   "metadata": {},
   "outputs": [],
   "source": [
    "df = read_files(fpaths)"
   ]
  },
  {
   "cell_type": "code",
   "execution_count": null,
   "metadata": {},
   "outputs": [],
   "source": [
    "df = parse_dates(df)"
   ]
  },
  {
   "cell_type": "code",
   "execution_count": null,
   "metadata": {},
   "outputs": [
    {
     "data": {
      "text/html": [
       "<div>\n",
       "<style scoped>\n",
       "    .dataframe tbody tr th:only-of-type {\n",
       "        vertical-align: middle;\n",
       "    }\n",
       "\n",
       "    .dataframe tbody tr th {\n",
       "        vertical-align: top;\n",
       "    }\n",
       "\n",
       "    .dataframe thead th {\n",
       "        text-align: right;\n",
       "    }\n",
       "</style>\n",
       "<table border=\"1\" class=\"dataframe\">\n",
       "  <thead>\n",
       "    <tr style=\"text-align: right;\">\n",
       "      <th></th>\n",
       "      <th>body</th>\n",
       "      <th>created_utc</th>\n",
       "      <th>id</th>\n",
       "      <th>subreddit</th>\n",
       "    </tr>\n",
       "  </thead>\n",
       "  <tbody>\n",
       "    <tr>\n",
       "      <th>117981</th>\n",
       "      <td>What's interesting is that in other statistics...</td>\n",
       "      <td>2006-02-04 19:10:02</td>\n",
       "      <td>c19aw</td>\n",
       "      <td>reddit.com</td>\n",
       "    </tr>\n",
       "    <tr>\n",
       "      <th>117980</th>\n",
       "      <td>It's a pity that The Economist doesn't just le...</td>\n",
       "      <td>2006-03-31 20:19:59</td>\n",
       "      <td>c3rb4</td>\n",
       "      <td>reddit.com</td>\n",
       "    </tr>\n",
       "    <tr>\n",
       "      <th>117979</th>\n",
       "      <td>ROFL - pica, what prompted this little diatrib...</td>\n",
       "      <td>2006-04-05 19:35:05</td>\n",
       "      <td>c3ywe</td>\n",
       "      <td>reddit.com</td>\n",
       "    </tr>\n",
       "    <tr>\n",
       "      <th>117978</th>\n",
       "      <td>Agreed, and it points up the absurdity of the ...</td>\n",
       "      <td>2006-05-23 18:43:32</td>\n",
       "      <td>c6gks</td>\n",
       "      <td>reddit.com</td>\n",
       "    </tr>\n",
       "    <tr>\n",
       "      <th>117977</th>\n",
       "      <td>What if your groups don't make any sense?  Thi...</td>\n",
       "      <td>2006-05-23 23:26:17</td>\n",
       "      <td>c6h6i</td>\n",
       "      <td>reddit.com</td>\n",
       "    </tr>\n",
       "    <tr>\n",
       "      <th>...</th>\n",
       "      <td>...</td>\n",
       "      <td>...</td>\n",
       "      <td>...</td>\n",
       "      <td>...</td>\n",
       "    </tr>\n",
       "    <tr>\n",
       "      <th>117986</th>\n",
       "      <td>oh for sure, I just meant to say that anyone w...</td>\n",
       "      <td>2020-10-06 19:59:46</td>\n",
       "      <td>g7xj5pq</td>\n",
       "      <td>politics</td>\n",
       "    </tr>\n",
       "    <tr>\n",
       "      <th>117985</th>\n",
       "      <td>didn't howard write the shadow over innsmouth ...</td>\n",
       "      <td>2020-10-06 20:06:46</td>\n",
       "      <td>g7xk783</td>\n",
       "      <td>IcebergCharts</td>\n",
       "    </tr>\n",
       "    <tr>\n",
       "      <th>117984</th>\n",
       "      <td>Again, you're putting words in my mouth, and I...</td>\n",
       "      <td>2020-10-06 20:09:14</td>\n",
       "      <td>g7xkkch</td>\n",
       "      <td>victoria2</td>\n",
       "    </tr>\n",
       "    <tr>\n",
       "      <th>117983</th>\n",
       "      <td>Oh man, English is so bloody weird. Like, yes ...</td>\n",
       "      <td>2020-10-06 20:10:18</td>\n",
       "      <td>g7xkptp</td>\n",
       "      <td>TheOwlHouse</td>\n",
       "    </tr>\n",
       "    <tr>\n",
       "      <th>117982</th>\n",
       "      <td>The religion of Brittany could be a cult to ki...</td>\n",
       "      <td>2020-10-06 20:23:54</td>\n",
       "      <td>g7xmm1j</td>\n",
       "      <td>NewEraOldWorld</td>\n",
       "    </tr>\n",
       "  </tbody>\n",
       "</table>\n",
       "<p>138925 rows × 4 columns</p>\n",
       "</div>"
      ],
      "text/plain": [
       "                                                     body         created_utc  \\\n",
       "117981  What's interesting is that in other statistics... 2006-02-04 19:10:02   \n",
       "117980  It's a pity that The Economist doesn't just le... 2006-03-31 20:19:59   \n",
       "117979  ROFL - pica, what prompted this little diatrib... 2006-04-05 19:35:05   \n",
       "117978  Agreed, and it points up the absurdity of the ... 2006-05-23 18:43:32   \n",
       "117977  What if your groups don't make any sense?  Thi... 2006-05-23 23:26:17   \n",
       "...                                                   ...                 ...   \n",
       "117986  oh for sure, I just meant to say that anyone w... 2020-10-06 19:59:46   \n",
       "117985  didn't howard write the shadow over innsmouth ... 2020-10-06 20:06:46   \n",
       "117984  Again, you're putting words in my mouth, and I... 2020-10-06 20:09:14   \n",
       "117983  Oh man, English is so bloody weird. Like, yes ... 2020-10-06 20:10:18   \n",
       "117982  The religion of Brittany could be a cult to ki... 2020-10-06 20:23:54   \n",
       "\n",
       "             id       subreddit  \n",
       "117981    c19aw      reddit.com  \n",
       "117980    c3rb4      reddit.com  \n",
       "117979    c3ywe      reddit.com  \n",
       "117978    c6gks      reddit.com  \n",
       "117977    c6h6i      reddit.com  \n",
       "...         ...             ...  \n",
       "117986  g7xj5pq        politics  \n",
       "117985  g7xk783   IcebergCharts  \n",
       "117984  g7xkkch       victoria2  \n",
       "117983  g7xkptp     TheOwlHouse  \n",
       "117982  g7xmm1j  NewEraOldWorld  \n",
       "\n",
       "[138925 rows x 4 columns]"
      ]
     },
     "execution_count": null,
     "metadata": {},
     "output_type": "execute_result"
    }
   ],
   "source": [
    "df"
   ]
  },
  {
   "cell_type": "markdown",
   "metadata": {},
   "source": [
    "# Clean data"
   ]
  },
  {
   "cell_type": "markdown",
   "metadata": {},
   "source": [
    "## Remove bot subreddits"
   ]
  },
  {
   "cell_type": "code",
   "execution_count": null,
   "metadata": {},
   "outputs": [
    {
     "name": "stdout",
     "output_type": "stream",
     "text": [
      "bot comments (abs): 0\n",
      "bot comments (rel): 0.0\n"
     ]
    }
   ],
   "source": [
    "df = rm_bots_subreddits(df)"
   ]
  },
  {
   "cell_type": "markdown",
   "metadata": {},
   "source": [
    "## Remove duplicate comments"
   ]
  },
  {
   "cell_type": "code",
   "execution_count": null,
   "metadata": {},
   "outputs": [
    {
     "name": "stdout",
     "output_type": "stream",
     "text": [
      "duplicates removed: 16812\n"
     ]
    }
   ],
   "source": [
    "df = rm_dupl_comments(df)"
   ]
  },
  {
   "cell_type": "markdown",
   "metadata": {},
   "source": [
    "## Remove comments without target tokens"
   ]
  },
  {
   "cell_type": "code",
   "execution_count": null,
   "metadata": {},
   "outputs": [
    {
     "name": "stdout",
     "output_type": "stream",
     "text": [
      "                0       1\n",
      "0  total comments  122113\n",
      "1      w/o tokens    1635\n"
     ]
    }
   ],
   "source": [
    "df = rm_comm_no_toks(df, LEX)"
   ]
  },
  {
   "cell_type": "markdown",
   "metadata": {},
   "source": [
    "# Export notebooks"
   ]
  },
  {
   "cell_type": "code",
   "execution_count": null,
   "metadata": {},
   "outputs": [
    {
     "name": "stdout",
     "output_type": "stream",
     "text": [
      "Converted 00_processing.ipynb.\n",
      "Converted 01_installation.ipynb.\n",
      "Converted 02_read_data.ipynb.\n",
      "Converted 03_clean_data.ipynb.\n",
      "Converted index.ipynb.\n"
     ]
    }
   ],
   "source": [
    "# hide\n",
    "from nbdev.export import notebook2script\n",
    "notebook2script()"
   ]
  }
 ],
 "metadata": {
  "kernelspec": {
   "display_name": "socembed",
   "language": "python",
   "name": "socembed"
  }
 },
 "nbformat": 4,
 "nbformat_minor": 4
}
