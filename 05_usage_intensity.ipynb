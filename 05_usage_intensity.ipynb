{
 "cells": [
  {
   "cell_type": "code",
   "execution_count": null,
   "metadata": {},
   "outputs": [],
   "source": [
    "# default_exp usage_intensity\n",
    "# all_data"
   ]
  },
  {
   "cell_type": "code",
   "execution_count": null,
   "metadata": {},
   "outputs": [],
   "source": [
    "# hide\n",
    "%load_ext autoreload\n",
    "%autoreload 2"
   ]
  },
  {
   "cell_type": "markdown",
   "metadata": {},
   "source": [
    "# Usage intensity"
   ]
  },
  {
   "cell_type": "markdown",
   "metadata": {},
   "source": [
    "## Imports"
   ]
  },
  {
   "cell_type": "code",
   "execution_count": null,
   "metadata": {},
   "outputs": [],
   "source": [
    "# export\n",
    "import pandas as pd\n",
    "import altair as alt"
   ]
  },
  {
   "cell_type": "markdown",
   "metadata": {},
   "source": [
    "## Aggregate to monthly frequency counts"
   ]
  },
  {
   "cell_type": "code",
   "execution_count": null,
   "metadata": {},
   "outputs": [],
   "source": [
    "# export\n",
    "def get_monthly_freq(df):\n",
    "    df_m = (df\n",
    "     .loc[:, ['id', 'created_utc']]\n",
    "     .groupby(pd.Grouper(key='created_utc', freq='M'))\n",
    "     .agg(comm_n = ('id', 'count'))\n",
    "     .reset_index()\n",
    "     .rename({'created_utc': 'month'}, axis=1)\n",
    "    )\n",
    "\n",
    "    # remove first and last month to ensure we're only considering complete months\n",
    "    # could be removed if we're using rolling mean for visualization -> preferable\n",
    "    df_m = df_m.iloc[1:-1]\n",
    "\n",
    "    return df_m"
   ]
  },
  {
   "cell_type": "markdown",
   "metadata": {},
   "source": [
    "## Plot usage frequency"
   ]
  },
  {
   "cell_type": "code",
   "execution_count": null,
   "metadata": {},
   "outputs": [],
   "source": [
    "# export\n",
    "def plot_use_freq(df_m, LEX):\n",
    "    chart = alt.Chart(df_m)\\\n",
    "        .mark_line(point=True)\\\n",
    "         .encode(\n",
    "             x=alt.X('month:T', title=''),\n",
    "             y=alt.Y('comm_n:Q', title='comments / month')\n",
    "         )\\\n",
    "         .properties(title=LEX)\\\n",
    "         .interactive()\n",
    "    return chart"
   ]
  },
  {
   "cell_type": "markdown",
   "metadata": {},
   "source": [
    "# Export notebooks"
   ]
  },
  {
   "cell_type": "code",
   "execution_count": null,
   "metadata": {},
   "outputs": [
    {
     "name": "stdout",
     "output_type": "stream",
     "text": [
      "Converted 00_processing.ipynb.\n",
      "Converted 01_installation.ipynb.\n",
      "Converted 02_read_data.ipynb.\n",
      "Converted 03_clean_data.ipynb.\n",
      "Converted 04_usage_intensity.ipynb.\n",
      "Converted index.ipynb.\n"
     ]
    }
   ],
   "source": [
    "# hide\n",
    "from nbdev.export import notebook2script\n",
    "notebook2script()"
   ]
  }
 ],
 "metadata": {
  "kernelspec": {
   "display_name": "socembed",
   "language": "python",
   "name": "socembed"
  }
 },
 "nbformat": 4,
 "nbformat_minor": 4
}
